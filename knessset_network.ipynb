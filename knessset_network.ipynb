{
  "nbformat": 4,
  "nbformat_minor": 0,
  "metadata": {
    "colab": {
      "provenance": [],
      "authorship_tag": "ABX9TyPRfDGdrfhh3fSuw49NDjyQ",
      "include_colab_link": true
    },
    "kernelspec": {
      "name": "python3",
      "display_name": "Python 3"
    },
    "language_info": {
      "name": "python"
    }
  },
  "cells": [
    {
      "cell_type": "markdown",
      "metadata": {
        "id": "view-in-github",
        "colab_type": "text"
      },
      "source": [
        "<a href=\"https://colab.research.google.com/github/moshe-hadad/knesset-network/blob/main/knessset_network.ipynb\" target=\"_parent\"><img src=\"https://colab.research.google.com/assets/colab-badge.svg\" alt=\"Open In Colab\"/></a>"
      ]
    },
    {
      "cell_type": "code",
      "execution_count": null,
      "metadata": {
        "id": "EgqAN19cnsqu"
      },
      "outputs": [],
      "source": [
        "# !pip install pyvis\n",
        "\n",
        "from pyvis import network\n",
        "import networkx as nx\n",
        "from IPython.display import display, HTML\n",
        "\n",
        "# Create a sample graph\n",
        "G = nx.karate_club_graph()\n",
        "\n",
        "# Create a network object with inline resources\n",
        "net = network.Network(notebook=True, cdn_resources='remote')\n",
        "\n",
        "# Load the NetworkX graph into the network object\n",
        "net.from_nx(G)\n",
        "\n",
        "# Show the network\n",
        "net.save_graph(\"networkx-pyvis.html\")\n",
        "HTML(filename=\"networkx-pyvis.html\")\n",
        "# net.show(\"karate_club_graph.html\")"
      ]
    }
  ]
}